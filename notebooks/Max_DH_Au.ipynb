{
 "cells": [
  {
   "cell_type": "code",
   "execution_count": null,
   "metadata": {},
   "outputs": [],
   "source": [
    "import sys\n",
    "sys.path.append(r'D:\\Python ML\\SA-geochemical-maps\\src')\n",
    "#import cartopy.crs as ccrs\n",
    "from matplotlib.colors import BoundaryNorm, LogNorm\n",
    "import matplotlib.pyplot as plt\n",
    "import matplotlib as mpl\n",
    "\n",
    "\n",
    "import create_chem_dataset as ccd\n",
    "import max_dh_chem as mdc\n",
    "from interpolation import MapBase, interpolate\n",
    "\n",
    "import pandas as pd\n",
    "import numpy as np"
   ]
  },
  {
   "cell_type": "code",
   "execution_count": null,
   "metadata": {},
   "outputs": [],
   "source": [
    "source_path = r'D:\\Unearthed_SARIG_Data_Package\\SARIG_Data_Package\\sarig_rs_chem_exp.csv'\n",
    "out_path = r'D:\\Python ML\\SA-geochemical-maps\\Data\\Processed_2'\n",
    "drill_hole_spatial = r'D:\\Python ML\\SA-geochemical-maps\\Data\\interim\\DH_data.csv'\n",
    "method_path = r'D:\\Python ML\\SA-geochemical-maps\\notebooks\\chem_method_code_map.csv'\n"
   ]
  },
  {
   "cell_type": "code",
   "execution_count": null,
   "metadata": {},
   "outputs": [],
   "source": [
    "elements = ['Fe2O3','U','Ag','Pb','Cu','Zn','Co','Li','Ni','Fe','NiO', 'U3O8', 'Au', 'FeO', 'CoO']\n",
    "\n",
    "element = 'Au'"
   ]
  },
  {
   "cell_type": "code",
   "execution_count": null,
   "metadata": {
    "tags": [
     "outputPrepend"
    ]
   },
   "outputs": [],
   "source": [
    "clean_Au = ccd.create_dh_chem_data(source_path, element, method_path, out_path)\n"
   ]
  },
  {
   "cell_type": "markdown",
   "metadata": {},
   "source": [
    "Need to remove spurious samples and holes as determined during the EDA phase, before determining max DH value"
   ]
  },
  {
   "cell_type": "code",
   "execution_count": null,
   "metadata": {},
   "outputs": [],
   "source": [
    "clean_Au.drop(clean_Au[clean_Au.DETERMINATION.str.contains(r'unknown', na=False, regex=False)].index, inplace=True)\n",
    "clean_Au.drop(clean_Au[clean_Au.DETERMINATION.str.contains(r'UKN', na=False, regex=False)].index, inplace=True)\n",
    "clean_Au.drop(clean_Au[clean_Au.DETERMINATION.str.contains(r'pXRF', na=False, regex=False)].index, inplace=True)\n",
    "clean_Au.drop(clean_Au[clean_Au.DETERMINATION.str.contains(r'N/S', na=False, regex=False)].index, inplace=True)\n",
    "clean_Au.drop(clean_Au[clean_Au.SAMPLE_NO == 1771825].index, inplace=True)\n",
    "clean_Au.drop(clean_Au[clean_Au.SAMPLE_NO == 1756688].index, inplace=True)\n",
    "clean_Au.drop(clean_Au[clean_Au.SAMPLE_NO == 1742451].index, inplace=True)"
   ]
  },
  {
   "cell_type": "code",
   "execution_count": null,
   "metadata": {},
   "outputs": [],
   "source": [
    "norm_data = mdc.max_dh_chem(clean_Au, drill_hole_spatial)"
   ]
  },
  {
   "cell_type": "code",
   "execution_count": null,
   "metadata": {},
   "outputs": [],
   "source": [
    "clean_Au.head()"
   ]
  },
  {
   "cell_type": "code",
   "execution_count": null,
   "metadata": {},
   "outputs": [],
   "source": [
    "norm_data['times_ave_crustal_abund'] = norm_data.converted_ppm.apply(lambda x: x / 0.0013)"
   ]
  },
  {
   "cell_type": "code",
   "execution_count": null,
   "metadata": {},
   "outputs": [],
   "source": [
    "norm_data.head()"
   ]
  },
  {
   "cell_type": "code",
   "execution_count": null,
   "metadata": {},
   "outputs": [],
   "source": [
    "norm_data.info()"
   ]
  },
  {
   "cell_type": "code",
   "execution_count": null,
   "metadata": {},
   "outputs": [],
   "source": [
    "norm_data.loc[norm_data['converted_ppm'].idxmax()]"
   ]
  },
  {
   "cell_type": "code",
   "execution_count": null,
   "metadata": {},
   "outputs": [],
   "source": [
    "norm_data.times_ave_crustal_abund.min()"
   ]
  },
  {
   "cell_type": "code",
   "execution_count": null,
   "metadata": {},
   "outputs": [],
   "source": [
    "max_v, min_v = norm_data.times_ave_crustal_abund.max().astype(int), norm_data.times_ave_crustal_abund.min().astype(int) \n",
    "print(f'For the element {element}: the max value range is {max_v}, while the min is {min_v}')\n",
    "\n",
    "proj = ccrs.epsg(3107)   #GDA 94/SA Lambert\n",
    "levels = list(range(min_v, max_v, 1))\n",
    "cmap = plt.get_cmap('plasma')\n",
    "#norm = BoundaryNorm(levels, ncolors=cmap.N, clip=True)\n",
    "log_norm = LogNorm()\n",
    "n_dh = len(norm_data.DRILLHOLE_NUMBER)"
   ]
  },
  {
   "cell_type": "code",
   "execution_count": null,
   "metadata": {},
   "outputs": [],
   "source": [
    "mpl.rcParams['agg.path.chunksize'] = 10000\n",
    "\n",
    "title = f'Maximum down-hole {element} values'\n",
    "label = f'{element} values times average crustal abundance'\n",
    "out_fig = out_path+'\\\\'+f'Max_downhole_{element}.jpg'\n",
    "inset_title = f'Number of drill holes:\\n{n_dh}'\n",
    "x, y = norm_data.LONGITUDE_GDA2020.values, norm_data.LATITUDE_GDA2020.values\n",
    "max_val, min_val, mean_val = norm_data.converted_ppm.max(), norm_data.converted_ppm.min(), norm_data.converted_ppm.mean()\n",
    "annot = f'Element concentration:\\nmax: {max_val:.2f}ppm\\nmean: {mean_val:.2f}ppm\\nmin: {min_val:.2f}ppm'\n",
    "\n",
    "fig, view, inset = MapBase(proj, title, inset_title)\n",
    "plot = view.scatter(x, y, c=norm_data.times_ave_crustal_abund, cmap=cmap, norm=log_norm, alpha=0.6, transform=ccrs.PlateCarree())\n",
    "fig.colorbar(plot, ax=view, shrink=.4, pad=0.01, label=label) #boundaries=levels, \n",
    "inset.plot(x, y,color='blue', marker='o', markersize=2, linestyle='None', transform=ccrs.Geodetic())\n",
    "    \n",
    "view.annotate(text=annot, xy=(0.33,0.09), xycoords='axes fraction')\n",
    "plt.savefig(out_fig, dpi=300, bbox_inches='tight')\n",
    "plt.show()"
   ]
  },
  {
   "cell_type": "code",
   "execution_count": null,
   "metadata": {},
   "outputs": [],
   "source": [
    "gx, gy, img = interpolate(norm_data, proj)"
   ]
  },
  {
   "cell_type": "code",
   "execution_count": null,
   "metadata": {},
   "outputs": [],
   "source": [
    "title = f'Interpolated maximum down-hole {element} values'\n",
    "label = f'{element} values times average crustal abundance'\n",
    "out_fig = out_path+'\\\\'+f'Interp_Max_downhole_{element}.jpg'\n",
    "inset_title = f'Number of drill holes:\\n{n_dh}'\n",
    "x, y = norm_data.LONGITUDE_GDA2020.values, norm_data.LATITUDE_GDA2020.values\n",
    "max_val, min_val, mean_val = norm_data.converted_ppm.max(), norm_data.converted_ppm.min(), norm_data.converted_ppm.mean()\n",
    "annot = f'Element concentration:\\nmax: {max_val:.2f}ppm\\nmean: {mean_val:.2f}ppm\\nmin: {min_val:.2f}ppm'\n",
    "\n",
    "fig, view, inset = MapBase(proj, title, inset_title)\n",
    "mmb = view.pcolormesh(gx, gy, img, cmap=cmap, norm=log_norm)\n",
    "fig.colorbar(mmb, ax=view, shrink=.4, pad=0.01, label=label) #boundaries=levels, \n",
    "inset.plot(x, y,color='blue', marker='o', markersize=2, linestyle='None', transform=ccrs.Geodetic())\n",
    "    \n",
    "view.annotate(text=annot, xy=(0.33,0.09), xycoords='axes fraction')\n",
    "plt.savefig(out_fig, dpi=300, bbox_inches='tight')\n",
    "plt.show()"
   ]
  },
  {
   "cell_type": "code",
   "execution_count": null,
   "metadata": {},
   "outputs": [],
   "source": []
  },
  {
   "cell_type": "code",
   "execution_count": null,
   "metadata": {},
   "outputs": [],
   "source": []
  },
  {
   "cell_type": "code",
   "execution_count": null,
   "metadata": {},
   "outputs": [],
   "source": []
  },
  {
   "cell_type": "code",
   "execution_count": null,
   "metadata": {},
   "outputs": [],
   "source": []
  }
 ],
 "metadata": {
  "kernelspec": {
   "display_name": "Python 3",
   "language": "python",
   "name": "python3"
  },
  "language_info": {
   "codemirror_mode": {
    "name": "ipython",
    "version": 3
   },
   "file_extension": ".py",
   "mimetype": "text/x-python",
   "name": "python",
   "nbconvert_exporter": "python",
   "pygments_lexer": "ipython3",
   "version": "3.8.10"
  }
 },
 "nbformat": 4,
 "nbformat_minor": 2
}
